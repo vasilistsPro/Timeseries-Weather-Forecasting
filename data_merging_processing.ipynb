{
 "cells": [
  {
   "cell_type": "code",
   "execution_count": 5,
   "metadata": {},
   "outputs": [
    {
     "name": "stderr",
     "output_type": "stream",
     "text": [
      "C:\\Users\\billt\\AppData\\Local\\Temp\\ipykernel_12452\\404200669.py:13: FutureWarning: The frame.append method is deprecated and will be removed from pandas in a future version. Use pandas.concat instead.\n",
      "  merged_data = merged_data.append(df, ignore_index=True)  # Append the data to the merged_data DataFrame\n",
      "C:\\Users\\billt\\AppData\\Local\\Temp\\ipykernel_12452\\404200669.py:13: FutureWarning: The frame.append method is deprecated and will be removed from pandas in a future version. Use pandas.concat instead.\n",
      "  merged_data = merged_data.append(df, ignore_index=True)  # Append the data to the merged_data DataFrame\n",
      "C:\\Users\\billt\\AppData\\Local\\Temp\\ipykernel_12452\\404200669.py:13: FutureWarning: The frame.append method is deprecated and will be removed from pandas in a future version. Use pandas.concat instead.\n",
      "  merged_data = merged_data.append(df, ignore_index=True)  # Append the data to the merged_data DataFrame\n",
      "C:\\Users\\billt\\AppData\\Local\\Temp\\ipykernel_12452\\404200669.py:13: FutureWarning: The frame.append method is deprecated and will be removed from pandas in a future version. Use pandas.concat instead.\n",
      "  merged_data = merged_data.append(df, ignore_index=True)  # Append the data to the merged_data DataFrame\n",
      "C:\\Users\\billt\\AppData\\Local\\Temp\\ipykernel_12452\\404200669.py:13: FutureWarning: The frame.append method is deprecated and will be removed from pandas in a future version. Use pandas.concat instead.\n",
      "  merged_data = merged_data.append(df, ignore_index=True)  # Append the data to the merged_data DataFrame\n",
      "C:\\Users\\billt\\AppData\\Local\\Temp\\ipykernel_12452\\404200669.py:13: FutureWarning: The frame.append method is deprecated and will be removed from pandas in a future version. Use pandas.concat instead.\n",
      "  merged_data = merged_data.append(df, ignore_index=True)  # Append the data to the merged_data DataFrame\n",
      "C:\\Users\\billt\\AppData\\Local\\Temp\\ipykernel_12452\\404200669.py:13: FutureWarning: The frame.append method is deprecated and will be removed from pandas in a future version. Use pandas.concat instead.\n",
      "  merged_data = merged_data.append(df, ignore_index=True)  # Append the data to the merged_data DataFrame\n",
      "C:\\Users\\billt\\AppData\\Local\\Temp\\ipykernel_12452\\404200669.py:13: FutureWarning: The frame.append method is deprecated and will be removed from pandas in a future version. Use pandas.concat instead.\n",
      "  merged_data = merged_data.append(df, ignore_index=True)  # Append the data to the merged_data DataFrame\n",
      "C:\\Users\\billt\\AppData\\Local\\Temp\\ipykernel_12452\\404200669.py:13: FutureWarning: The frame.append method is deprecated and will be removed from pandas in a future version. Use pandas.concat instead.\n",
      "  merged_data = merged_data.append(df, ignore_index=True)  # Append the data to the merged_data DataFrame\n",
      "C:\\Users\\billt\\AppData\\Local\\Temp\\ipykernel_12452\\404200669.py:13: FutureWarning: The frame.append method is deprecated and will be removed from pandas in a future version. Use pandas.concat instead.\n",
      "  merged_data = merged_data.append(df, ignore_index=True)  # Append the data to the merged_data DataFrame\n",
      "C:\\Users\\billt\\AppData\\Local\\Temp\\ipykernel_12452\\404200669.py:13: FutureWarning: The frame.append method is deprecated and will be removed from pandas in a future version. Use pandas.concat instead.\n",
      "  merged_data = merged_data.append(df, ignore_index=True)  # Append the data to the merged_data DataFrame\n",
      "C:\\Users\\billt\\AppData\\Local\\Temp\\ipykernel_12452\\404200669.py:13: FutureWarning: The frame.append method is deprecated and will be removed from pandas in a future version. Use pandas.concat instead.\n",
      "  merged_data = merged_data.append(df, ignore_index=True)  # Append the data to the merged_data DataFrame\n",
      "C:\\Users\\billt\\AppData\\Local\\Temp\\ipykernel_12452\\404200669.py:13: FutureWarning: The frame.append method is deprecated and will be removed from pandas in a future version. Use pandas.concat instead.\n",
      "  merged_data = merged_data.append(df, ignore_index=True)  # Append the data to the merged_data DataFrame\n",
      "C:\\Users\\billt\\AppData\\Local\\Temp\\ipykernel_12452\\404200669.py:13: FutureWarning: The frame.append method is deprecated and will be removed from pandas in a future version. Use pandas.concat instead.\n",
      "  merged_data = merged_data.append(df, ignore_index=True)  # Append the data to the merged_data DataFrame\n",
      "C:\\Users\\billt\\AppData\\Local\\Temp\\ipykernel_12452\\404200669.py:13: FutureWarning: The frame.append method is deprecated and will be removed from pandas in a future version. Use pandas.concat instead.\n",
      "  merged_data = merged_data.append(df, ignore_index=True)  # Append the data to the merged_data DataFrame\n",
      "C:\\Users\\billt\\AppData\\Local\\Temp\\ipykernel_12452\\404200669.py:13: FutureWarning: The frame.append method is deprecated and will be removed from pandas in a future version. Use pandas.concat instead.\n",
      "  merged_data = merged_data.append(df, ignore_index=True)  # Append the data to the merged_data DataFrame\n"
     ]
    }
   ],
   "source": [
    "import pandas as pd\n",
    "import glob\n",
    "\n",
    "# Get a list of all CSV files in a directory\n",
    "csv_files = glob.glob(\"D:\\\\data\\\\*.csv\")\n",
    "\n",
    "# Create an empty DataFrame to store the merged data\n",
    "merged_data = pd.DataFrame()\n",
    "\n",
    "# Iterate over each CSV file and merge its data into the merged_data DataFrame\n",
    "for file in csv_files:\n",
    "    df = pd.read_csv(file, encoding=\"latin-1\")  # Read each CSV file with the specified encoding\n",
    "    merged_data = merged_data.append(df, ignore_index=True)  # Append the data to the merged_data DataFrame\n",
    "\n",
    "# Drop all columns except the specified ones\n",
    "columns_to_keep = [\"Date Time\", \"p (mbar)\", \"T (degC)\", \"Tpot (K)\", \"Tdew (degC)\", \"rh (%)\", \"VPmax (mbar)\",\n",
    "                   \"VPact (mbar)\", \"VPdef (mbar)\", \"sh (g/kg)\", \"H2OC (mmol/mol)\", \"rho (g/m**3)\",\n",
    "                   \"wv (m/s)\", \"max. wv (m/s)\", \"wd (deg)\"]\n",
    "merged_data = merged_data[columns_to_keep]\n",
    "\n",
    "# Save the merged data to a new CSV file\n",
    "merged_data.to_csv(\"D:\\\\weather_data.csv\", index=False)\n",
    "\n",
    "\n"
   ]
  },
  {
   "cell_type": "code",
   "execution_count": 8,
   "metadata": {},
   "outputs": [
    {
     "name": "stdout",
     "output_type": "stream",
     "text": [
      "                  Date Time  p (mbar)  T (degC)  Tpot (K)  Tdew (degC)  \\\n",
      "0       01.01.2015 00:10:00   1007.19      2.15    274.75         1.99   \n",
      "1       01.01.2015 00:20:00   1007.18      2.10    274.70         1.93   \n",
      "2       01.01.2015 00:30:00   1007.17      2.08    274.67         1.91   \n",
      "3       01.01.2015 00:40:00   1007.17      2.07    274.67         1.92   \n",
      "4       01.01.2015 00:50:00   1007.10      2.22    274.83         2.10   \n",
      "...                     ...       ...       ...       ...          ...   \n",
      "420192  31.12.2022 23:20:00    988.09     16.83    290.98         7.37   \n",
      "420193  31.12.2022 23:30:00    988.26     16.76    290.89         7.38   \n",
      "420194  31.12.2022 23:40:00    988.47     16.72    290.83         7.20   \n",
      "420195  31.12.2022 23:50:00    988.62     16.68    290.78         6.97   \n",
      "420196  01.01.2023 00:00:00    988.59     16.69    290.79         6.81   \n",
      "\n",
      "        rh (%)  VPmax (mbar)  VPact (mbar)  VPdef (mbar)  sh (g/kg)  \\\n",
      "0        98.90          7.13          7.06          0.08       4.37   \n",
      "1        98.80          7.11          7.03          0.09       4.35   \n",
      "2        98.80          7.10          7.01          0.09       4.34   \n",
      "3        98.90          7.10          7.02          0.08       4.35   \n",
      "4        99.10          7.17          7.11          0.06       4.40   \n",
      "...        ...           ...           ...           ...        ...   \n",
      "420192   53.59         19.20         10.29          8.91       6.50   \n",
      "420193   53.84         19.11         10.29          8.82       6.50   \n",
      "420194   53.32         19.07         10.17          8.90       6.42   \n",
      "420195   52.62         19.02         10.01          9.01       6.32   \n",
      "420196   52.00         19.03          9.89          9.13       6.25   \n",
      "\n",
      "        H2OC (mmol/mol)  rho (g/m**3)  wv (m/s)  max. wv (m/s)  wd (deg)  \n",
      "0                  7.01       1271.07      0.33           0.74     136.3  \n",
      "1                  6.98       1271.28      0.65           1.16     129.3  \n",
      "2                  6.96       1271.40      0.46           1.64     134.1  \n",
      "3                  6.97       1271.41      0.63           1.60      95.9  \n",
      "4                  7.06       1270.59      0.45           1.20     147.2  \n",
      "...                 ...           ...       ...            ...       ...  \n",
      "420192            10.41       1182.35      6.39          10.66     206.1  \n",
      "420193            10.41       1182.83      5.73           9.93     207.4  \n",
      "420194            10.28       1183.31      5.26           8.07     203.9  \n",
      "420195            10.12       1183.72      5.55          11.47     212.0  \n",
      "420196            10.01       1183.70      7.05          11.16     209.8  \n",
      "\n",
      "[420197 rows x 15 columns]\n"
     ]
    }
   ],
   "source": [
    "# Set the display option to show all columns\n",
    "pd.set_option('display.max_columns', None)\n",
    "\n",
    "# Read the merged.csv file into a DataFrame\n",
    "merged_data = pd.read_csv(\"D:\\\\weather_data.csv\")\n",
    "\n",
    "# Print the DataFrame\n",
    "print(merged_data)"
   ]
  }
 ],
 "metadata": {
  "kernelspec": {
   "display_name": "weather",
   "language": "python",
   "name": "python3"
  },
  "language_info": {
   "codemirror_mode": {
    "name": "ipython",
    "version": 3
   },
   "file_extension": ".py",
   "mimetype": "text/x-python",
   "name": "python",
   "nbconvert_exporter": "python",
   "pygments_lexer": "ipython3",
   "version": "3.9.13"
  },
  "orig_nbformat": 4
 },
 "nbformat": 4,
 "nbformat_minor": 2
}
